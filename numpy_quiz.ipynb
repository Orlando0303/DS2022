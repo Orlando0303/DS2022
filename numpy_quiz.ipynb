{
 "cells": [
  {
   "cell_type": "markdown",
   "id": "2241df87",
   "metadata": {},
   "source": [
    "# numpy基础练习（满分100，每题5分）"
   ]
  },
  {
   "cell_type": "markdown",
   "id": "f43b1deb",
   "metadata": {},
   "source": [
    "1. 导入numpy库并取别名为np"
   ]
  },
  {
   "cell_type": "code",
   "execution_count": 1,
   "id": "8076703e",
   "metadata": {},
   "outputs": [],
   "source": [
    "import numpy as np"
   ]
  },
  {
   "cell_type": "markdown",
   "id": "f72664b4",
   "metadata": {},
   "source": [
    "2. 创建一个长度为10的空向量，并输出结果"
   ]
  },
  {
   "cell_type": "code",
   "execution_count": 2,
   "id": "1f500f30",
   "metadata": {},
   "outputs": [
    {
     "name": "stdout",
     "output_type": "stream",
     "text": [
      "[0. 0. 0. 0. 0. 0. 0. 0. 0. 0.]\n"
     ]
    }
   ],
   "source": [
    "vec1 = np.zeros(10)\n",
    "print(vec1)"
   ]
  },
  {
   "cell_type": "markdown",
   "id": "3b9338e2",
   "metadata": {},
   "source": [
    "3. 创建一个长度为10的向量（要求除了第五个值为1之外，其他值均为0），并输出结果"
   ]
  },
  {
   "cell_type": "code",
   "execution_count": 3,
   "id": "0913d665",
   "metadata": {},
   "outputs": [
    {
     "name": "stdout",
     "output_type": "stream",
     "text": [
      "[0. 0. 0. 0. 1. 0. 0. 0. 0. 0.]\n"
     ]
    }
   ],
   "source": [
    "vec2 = np.zeros(10)\n",
    "vec2[4] = 1\n",
    "print(vec2)"
   ]
  },
  {
   "cell_type": "markdown",
   "id": "992ead6e",
   "metadata": {},
   "source": [
    "4. 创建一个值域范围从10到49的向量，并输出结果"
   ]
  },
  {
   "cell_type": "code",
   "execution_count": 4,
   "id": "4ff54840",
   "metadata": {},
   "outputs": [
    {
     "name": "stdout",
     "output_type": "stream",
     "text": [
      "[10 11 12 13 14 15 16 17 18 19 20 21 22 23 24 25 26 27 28 29 30 31 32 33\n",
      " 34 35 36 37 38 39 40 41 42 43 44 45 46 47 48 49]\n"
     ]
    }
   ],
   "source": [
    "vec3 = np.arange(10,50)\n",
    "print(vec3)"
   ]
  },
  {
   "cell_type": "markdown",
   "id": "fa0985ca",
   "metadata": {},
   "source": [
    "5. 创建一个3x3并且值从0到8的矩阵，并输出结果"
   ]
  },
  {
   "cell_type": "code",
   "execution_count": 5,
   "id": "f92bec64",
   "metadata": {},
   "outputs": [
    {
     "name": "stdout",
     "output_type": "stream",
     "text": [
      "[[0 1 2]\n",
      " [3 4 5]\n",
      " [6 7 8]]\n"
     ]
    }
   ],
   "source": [
    "arr1 = np.arange(9).reshape(3,3)\n",
    "print(arr1)"
   ]
  },
  {
   "cell_type": "markdown",
   "id": "8fc4d61d",
   "metadata": {},
   "source": [
    "6. 对于上一题中创建的矩阵，输出其中的第二行第三列的元素"
   ]
  },
  {
   "cell_type": "code",
   "execution_count": 6,
   "id": "fdc6741c",
   "metadata": {},
   "outputs": [
    {
     "name": "stdout",
     "output_type": "stream",
     "text": [
      "5\n"
     ]
    }
   ],
   "source": [
    "x = arr1[1,2]\n",
    "print(x)"
   ]
  },
  {
   "cell_type": "markdown",
   "id": "3361d538",
   "metadata": {},
   "source": [
    "7. 创建一个3x3的单位矩阵，并输出结果"
   ]
  },
  {
   "cell_type": "code",
   "execution_count": 7,
   "id": "27da1525",
   "metadata": {},
   "outputs": [
    {
     "name": "stdout",
     "output_type": "stream",
     "text": [
      "[[1. 0. 0.]\n",
      " [0. 1. 0.]\n",
      " [0. 0. 1.]]\n"
     ]
    }
   ],
   "source": [
    "arr2 = np.eye(3)\n",
    "print(arr2)"
   ]
  },
  {
   "cell_type": "markdown",
   "id": "beb38124",
   "metadata": {},
   "source": [
    "8. 创建一个10x10的随机矩阵，找到他的最大值和最小值，输出矩阵以及最大值和最小值"
   ]
  },
  {
   "cell_type": "code",
   "execution_count": 8,
   "id": "12c0d65f",
   "metadata": {},
   "outputs": [
    {
     "name": "stdout",
     "output_type": "stream",
     "text": [
      "[[0.00365077 0.49660126 0.3349862  0.57539766 0.94863261 0.53445436\n",
      "  0.97502759 0.13456048 0.21885833 0.70220993]\n",
      " [0.02351096 0.8907895  0.82779557 0.7241407  0.57587319 0.09039001\n",
      "  0.75231256 0.97775247 0.22332341 0.47304739]\n",
      " [0.19446107 0.75434586 0.6803956  0.46506081 0.56058438 0.07966519\n",
      "  0.8836333  0.44072669 0.37633149 0.34103564]\n",
      " [0.32808921 0.48574472 0.86207332 0.11520527 0.11864577 0.70290524\n",
      "  0.36095483 0.07811936 0.06420281 0.82087677]\n",
      " [0.60746706 0.92337056 0.31890224 0.78617406 0.85569566 0.52484662\n",
      "  0.33517912 0.98151412 0.48477695 0.64161406]\n",
      " [0.58354447 0.1379417  0.46648555 0.76459025 0.94942921 0.63174742\n",
      "  0.88161718 0.78423459 0.07692057 0.16921623]\n",
      " [0.36260801 0.06736173 0.36339232 0.87806531 0.84362812 0.79325944\n",
      "  0.15667086 0.41522289 0.5683167  0.1587074 ]\n",
      " [0.43841719 0.91696522 0.64747957 0.0096396  0.7932527  0.038414\n",
      "  0.33480343 0.93517541 0.09645859 0.69202045]\n",
      " [0.0701418  0.95076773 0.46461683 0.51593545 0.44947356 0.56883751\n",
      "  0.13957623 0.50571266 0.11232411 0.90581829]\n",
      " [0.2158557  0.66022233 0.03357176 0.56025903 0.386047   0.72075285\n",
      "  0.69741641 0.07798494 0.8765384  0.66890791]]\n",
      "0.9815141163041995\n",
      "0.0036507689077002192\n"
     ]
    }
   ],
   "source": [
    "arr3 = np.random.random((10,10))\n",
    "print(arr3)\n",
    "print(arr3.max())\n",
    "print(arr3.min())"
   ]
  },
  {
   "cell_type": "markdown",
   "id": "cbdc630b",
   "metadata": {},
   "source": [
    "9. 对一个5x5的随机矩阵做归一化（提示：(x-min)/(max-min)），并输出归一化之后的结果"
   ]
  },
  {
   "cell_type": "code",
   "execution_count": 9,
   "id": "dd2a00ed",
   "metadata": {},
   "outputs": [
    {
     "name": "stdout",
     "output_type": "stream",
     "text": [
      "[[0.37228325 0.1853741  0.29632354 0.68025812 0.98081974]\n",
      " [0.72507635 0.70472486 0.3960609  0.64521708 0.96453248]\n",
      " [0.86586595 0.46750138 0.1683189  0.83783031 0.50509828]\n",
      " [0.1278999  0.67210476 0.31272969 0.29577055 0.        ]\n",
      " [0.75664745 0.3610095  0.21718964 0.20014243 1.        ]]\n"
     ]
    }
   ],
   "source": [
    "arr4 = np.random.random((5,5))\n",
    "arr4 = (arr4-arr4.min())/(arr4.max()-arr4.min())\n",
    "print(arr4)"
   ]
  },
  {
   "cell_type": "markdown",
   "id": "d5c81a0a",
   "metadata": {},
   "source": [
    "10. 对矩阵A求转置并输出"
   ]
  },
  {
   "cell_type": "code",
   "execution_count": 10,
   "id": "7a052e5b",
   "metadata": {},
   "outputs": [
    {
     "name": "stdout",
     "output_type": "stream",
     "text": [
      "[[1. 4.]\n",
      " [2. 5.]\n",
      " [3. 6.]]\n"
     ]
    }
   ],
   "source": [
    "A = np.array([[1,2,3],[4,5,6]],dtype=np.float64)\n",
    "print(A.T)"
   ]
  },
  {
   "cell_type": "markdown",
   "id": "85c5a3b1",
   "metadata": {},
   "source": [
    "11. 对本题中给出的两个矩阵进行加法操作并输出结果"
   ]
  },
  {
   "cell_type": "code",
   "execution_count": 11,
   "id": "d95e979e",
   "metadata": {},
   "outputs": [
    {
     "name": "stdout",
     "output_type": "stream",
     "text": [
      "[[ 6.  8.]\n",
      " [10. 12.]]\n"
     ]
    }
   ],
   "source": [
    "x = np.array([[1,2],[3,4]],dtype=np.float64)\n",
    "y = np.array([[5,6],[7,8]],dtype=np.float64)\n",
    "print(x+y)"
   ]
  },
  {
   "cell_type": "markdown",
   "id": "2890a9c3",
   "metadata": {},
   "source": [
    "12. 对本题中给出的两个矩阵进行减法操作（以x为被减数，y为减数）并输出结果"
   ]
  },
  {
   "cell_type": "code",
   "execution_count": 12,
   "id": "697df1a5",
   "metadata": {},
   "outputs": [
    {
     "name": "stdout",
     "output_type": "stream",
     "text": [
      "[[-4. -4.]\n",
      " [-4. -4.]]\n"
     ]
    }
   ],
   "source": [
    "x = np.array([[1,2],[3,4]],dtype=np.float64)\n",
    "y = np.array([[5,6],[7,8]],dtype=np.float64)\n",
    "print(x-y)"
   ]
  },
  {
   "cell_type": "markdown",
   "id": "a796e4c8",
   "metadata": {},
   "source": [
    "13. 对本题中给出的两个矩阵，进行对应位置相乘的操作并输出结果"
   ]
  },
  {
   "cell_type": "code",
   "execution_count": 13,
   "id": "f9961d8b",
   "metadata": {},
   "outputs": [
    {
     "name": "stdout",
     "output_type": "stream",
     "text": [
      "[[ 5. 12.]\n",
      " [21. 32.]]\n"
     ]
    }
   ],
   "source": [
    "x = np.array([[1,2],[3,4]],dtype=np.float64)\n",
    "y = np.array([[5,6],[7,8]],dtype=np.float64)\n",
    "print(x*y)"
   ]
  },
  {
   "cell_type": "markdown",
   "id": "7839c30f",
   "metadata": {},
   "source": [
    "14. 对本题中给出的两个矩阵，进行矩阵乘法的操作并输出结果"
   ]
  },
  {
   "cell_type": "code",
   "execution_count": 14,
   "id": "4a346120",
   "metadata": {},
   "outputs": [
    {
     "name": "stdout",
     "output_type": "stream",
     "text": [
      "[[19. 22.]\n",
      " [43. 50.]]\n"
     ]
    }
   ],
   "source": [
    "x = np.array([[1,2],[3,4]],dtype=np.float64)\n",
    "y = np.array([[5,6],[7,8]],dtype=np.float64)\n",
    "print(np.dot(x,y))\n"
   ]
  },
  {
   "cell_type": "markdown",
   "id": "a621d74c",
   "metadata": {},
   "source": [
    "15. 对数组B中的每一项进行向下取整，并输出向下取整后的数组"
   ]
  },
  {
   "cell_type": "code",
   "execution_count": 15,
   "id": "ce2b8718",
   "metadata": {},
   "outputs": [
    {
     "name": "stdout",
     "output_type": "stream",
     "text": [
      "[4.755713   9.90444101 8.32146876 5.04497513 2.93156557 3.49362727\n",
      " 6.74637118 1.75464663 4.37094006 7.29180468]\n",
      "[4. 9. 8. 5. 2. 3. 6. 1. 4. 7.]\n"
     ]
    }
   ],
   "source": [
    "B = np.random.uniform(0,10,10)\n",
    "print(B)\n",
    "print(np.floor(B))\n"
   ]
  },
  {
   "cell_type": "markdown",
   "id": "b5b4905b",
   "metadata": {},
   "source": [
    "16. 创建一个长度为11的向量，要求这11个数字是0到1之间的等差数列，第一个元素为0，最后一个元素为1，并输出该向量"
   ]
  },
  {
   "cell_type": "code",
   "execution_count": 16,
   "id": "52c71575",
   "metadata": {},
   "outputs": [
    {
     "name": "stdout",
     "output_type": "stream",
     "text": [
      "[0.  0.1 0.2 0.3 0.4 0.5 0.6 0.7 0.8 0.9 1. ]\n"
     ]
    }
   ],
   "source": [
    "vec4 = np.linspace(0,1,11)\n",
    "print(vec4)"
   ]
  },
  {
   "cell_type": "markdown",
   "id": "898cd06b",
   "metadata": {},
   "source": [
    "17. 输出对16题中创建的向量进行求和（即各项相加，最终得到一个数字）得到的结果（可能会有很小的计算错误，可以忽视或者只保留一位小数）"
   ]
  },
  {
   "cell_type": "code",
   "execution_count": 17,
   "id": "66ab32b4",
   "metadata": {},
   "outputs": [
    {
     "data": {
      "text/plain": [
       "5.500000000000001"
      ]
     },
     "execution_count": 17,
     "metadata": {},
     "output_type": "execute_result"
    }
   ],
   "source": [
    "vec4.sum()"
   ]
  },
  {
   "cell_type": "markdown",
   "id": "d03723aa",
   "metadata": {},
   "source": [
    "18. 输出16题中创建的向量的均值（直接调用numpy中的函数实现这一点，不要自己写公式）"
   ]
  },
  {
   "cell_type": "code",
   "execution_count": 18,
   "id": "77f0a574",
   "metadata": {},
   "outputs": [
    {
     "data": {
      "text/plain": [
       "0.5000000000000001"
      ]
     },
     "execution_count": 18,
     "metadata": {},
     "output_type": "execute_result"
    }
   ],
   "source": [
    "vec4.mean()"
   ]
  },
  {
   "cell_type": "markdown",
   "id": "fd7cd20b",
   "metadata": {},
   "source": [
    "19. 对16题创建的向量中的所有元素求平方，并输出结果"
   ]
  },
  {
   "cell_type": "code",
   "execution_count": 19,
   "id": "a4956896",
   "metadata": {},
   "outputs": [
    {
     "name": "stdout",
     "output_type": "stream",
     "text": [
      "[0.   0.01 0.04 0.09 0.16 0.25 0.36 0.49 0.64 0.81 1.  ]\n"
     ]
    }
   ],
   "source": [
    "print(vec4**2)"
   ]
  },
  {
   "cell_type": "markdown",
   "id": "67656d27",
   "metadata": {},
   "source": [
    "20. 对16题创建的向量中的所有元素开平方，并输出结果"
   ]
  },
  {
   "cell_type": "code",
   "execution_count": 20,
   "id": "90577f0b",
   "metadata": {},
   "outputs": [
    {
     "name": "stdout",
     "output_type": "stream",
     "text": [
      "[0.         0.31622777 0.4472136  0.54772256 0.63245553 0.70710678\n",
      " 0.77459667 0.83666003 0.89442719 0.9486833  1.        ]\n"
     ]
    }
   ],
   "source": [
    "print(np.sqrt(vec4))"
   ]
  }
 ],
 "metadata": {
  "kernelspec": {
   "display_name": "Python 3",
   "language": "python",
   "name": "python3"
  },
  "language_info": {
   "codemirror_mode": {
    "name": "ipython",
    "version": 3
   },
   "file_extension": ".py",
   "mimetype": "text/x-python",
   "name": "python",
   "nbconvert_exporter": "python",
   "pygments_lexer": "ipython3",
   "version": "3.8.8"
  }
 },
 "nbformat": 4,
 "nbformat_minor": 5
}
