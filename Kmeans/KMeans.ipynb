{
 "cells": [
  {
   "cell_type": "markdown",
   "id": "39f5f026",
   "metadata": {},
   "source": [
    "# KMeans"
   ]
  },
  {
   "cell_type": "code",
   "execution_count": 1,
   "id": "89a961ad",
   "metadata": {},
   "outputs": [],
   "source": [
    "import pandas as pd\n",
    "import numpy as np\n",
    "import matplotlib.pyplot as plt"
   ]
  },
  {
   "cell_type": "markdown",
   "id": "156f6b49",
   "metadata": {},
   "source": [
    "读取文件"
   ]
  },
  {
   "cell_type": "code",
   "execution_count": 2,
   "id": "7ac6e258",
   "metadata": {},
   "outputs": [],
   "source": [
    "dataset = np.loadtxt(\"data.txt\",delimiter=' ')\n",
    "c1 = np.loadtxt(\"c1.txt\",delimiter=' ')\n",
    "c2 = np.loadtxt(\"c2.txt\",delimiter=' ')"
   ]
  },
  {
   "cell_type": "markdown",
   "id": "3352eefb",
   "metadata": {},
   "source": [
    "聚类函数"
   ]
  },
  {
   "cell_type": "code",
   "execution_count": 3,
   "id": "d243e6aa",
   "metadata": {},
   "outputs": [],
   "source": [
    "# 参数列表：待聚类数据，初始中心点，迭代次数，距离计算方式\n",
    "def Kmeans(data,centroids,iterations,distance_way): \n",
    "    dataset = data\n",
    "    cent = centroids\n",
    "    # 初始化cost列表\n",
    "    cost = []\n",
    "    for i in range(iterations):\n",
    "        # 计算data各点到各个中心的距离\n",
    "        distance = list(map(lambda x:np.array([np.sqrt(np.sum((x-y)**2)) for y in cent] if (distance_way == 'Euclidean') else [np.sum(abs(x-y)) for y in cent] ),dataset))\n",
    "        # 计算cost并找出各点的最小cost值\n",
    "        min_distance_list=list(map(lambda x: (np.amin(x))**2 if (distance_way == 'Euclidean') else (np.amin(x)),distance))\n",
    "        # 匹配各点距离最近的中心\n",
    "        min_distance_index=list(map(lambda x: np.argmin(x),distance))\n",
    "        # 打印每次迭代后的cost\n",
    "        print('iteration', i+1,':',np.sum(min_distance_list))\n",
    "        # 存储每次迭代后的cost\n",
    "        cost.append(np.sum(min_distance_list))\n",
    "        # 链接各点数据和所属类别\n",
    "        group_temp=list(zip(min_distance_index,dataset))\n",
    "        # 计算每类的各个维度的均值，更新中心点\n",
    "        data = pd.DataFrame(group_temp)\n",
    "        cent=np.array(list(map(lambda x: np.average(x[1],axis=0)[1],data.groupby(0))))\n",
    "    return cost"
   ]
  },
  {
   "cell_type": "markdown",
   "id": "f4977cba",
   "metadata": {},
   "source": [
    "欧氏距离，c1为初始中心"
   ]
  },
  {
   "cell_type": "code",
   "execution_count": 4,
   "id": "7d29756b",
   "metadata": {},
   "outputs": [
    {
     "name": "stdout",
     "output_type": "stream",
     "text": [
      "iteration 1 : 623660345.306411\n",
      "iteration 2 : 509862908.2975452\n",
      "iteration 3 : 485480681.8720081\n",
      "iteration 4 : 463997011.68501264\n",
      "iteration 5 : 460969266.57299656\n",
      "iteration 6 : 460537847.98276794\n",
      "iteration 7 : 460313099.65354526\n",
      "iteration 8 : 460003523.88940734\n",
      "iteration 9 : 459570539.3177351\n",
      "iteration 10 : 459021103.342291\n",
      "iteration 11 : 458490656.19198096\n",
      "iteration 12 : 457944232.58797425\n",
      "iteration 13 : 457558005.1986768\n",
      "iteration 14 : 457290136.35230196\n",
      "iteration 15 : 457050555.0595628\n",
      "iteration 16 : 456892235.61535484\n",
      "iteration 17 : 456703630.7370337\n",
      "iteration 18 : 456404203.0189748\n",
      "iteration 19 : 456177800.54199314\n",
      "iteration 20 : 455986871.02734584\n"
     ]
    }
   ],
   "source": [
    "cost_Euclidean_c1=Kmeans(dataset,c1,20,'Euclidean')"
   ]
  },
  {
   "cell_type": "markdown",
   "id": "9ec68c3b",
   "metadata": {},
   "source": [
    "欧氏距离，c2为初始中心"
   ]
  },
  {
   "cell_type": "code",
   "execution_count": 5,
   "id": "d58b5a50",
   "metadata": {},
   "outputs": [
    {
     "name": "stdout",
     "output_type": "stream",
     "text": [
      "iteration 1 : 438747790.02791697\n",
      "iteration 2 : 249803933.62600315\n",
      "iteration 3 : 194494814.40631247\n",
      "iteration 4 : 169804841.451543\n",
      "iteration 5 : 156295748.80627602\n",
      "iteration 6 : 149094208.1089661\n",
      "iteration 7 : 142508531.61961526\n",
      "iteration 8 : 132303869.40652972\n",
      "iteration 9 : 117170969.83719075\n",
      "iteration 10 : 108547377.17857005\n",
      "iteration 11 : 102237203.317996\n",
      "iteration 12 : 98278015.74975672\n",
      "iteration 13 : 95630226.12177396\n",
      "iteration 14 : 93793314.05119297\n",
      "iteration 15 : 92377131.96821073\n",
      "iteration 16 : 91541606.25423887\n",
      "iteration 17 : 91045573.83042458\n",
      "iteration 18 : 90752240.101408\n",
      "iteration 19 : 90470170.18122733\n",
      "iteration 20 : 90216416.17563124\n"
     ]
    }
   ],
   "source": [
    "cost_Euclidean_c2=Kmeans(dataset,c2,20,'Euclidean')"
   ]
  },
  {
   "cell_type": "markdown",
   "id": "152eb5e5",
   "metadata": {},
   "source": [
    "曼哈顿距离，c1为初始中心"
   ]
  },
  {
   "cell_type": "code",
   "execution_count": 6,
   "id": "fc6505ea",
   "metadata": {},
   "outputs": [
    {
     "name": "stdout",
     "output_type": "stream",
     "text": [
      "iteration 1 : 550117.142\n",
      "iteration 2 : 464829.26840394514\n",
      "iteration 3 : 470934.15384668077\n",
      "iteration 4 : 483874.8162850933\n",
      "iteration 5 : 489234.2347883458\n",
      "iteration 6 : 487664.69262679014\n",
      "iteration 7 : 483718.6659285138\n",
      "iteration 8 : 475337.9476330569\n",
      "iteration 9 : 474871.96654965583\n",
      "iteration 10 : 457244.7897417529\n",
      "iteration 11 : 447493.1956040524\n",
      "iteration 12 : 450891.83580477023\n",
      "iteration 13 : 451232.57747569564\n",
      "iteration 14 : 451860.12588546483\n",
      "iteration 15 : 451567.22358914884\n",
      "iteration 16 : 452710.052099943\n",
      "iteration 17 : 453078.2269618495\n",
      "iteration 18 : 450646.1355620944\n",
      "iteration 19 : 450419.9701134354\n",
      "iteration 20 : 449009.59037188475\n"
     ]
    }
   ],
   "source": [
    "cost_Manhattan_c1=Kmeans(dataset,c1,20,'Manhattan')"
   ]
  },
  {
   "cell_type": "markdown",
   "id": "7ac0812a",
   "metadata": {},
   "source": [
    "曼哈顿距离，c2为初始中心"
   ]
  },
  {
   "cell_type": "code",
   "execution_count": 7,
   "id": "19be1dec",
   "metadata": {},
   "outputs": [
    {
     "name": "stdout",
     "output_type": "stream",
     "text": [
      "iteration 1 : 1433739.31\n",
      "iteration 2 : 1084488.7769648787\n",
      "iteration 3 : 973431.714662042\n",
      "iteration 4 : 895934.592563071\n",
      "iteration 5 : 865128.3352940822\n",
      "iteration 6 : 845846.6470313489\n",
      "iteration 7 : 827219.5827561263\n",
      "iteration 8 : 803590.3456011105\n",
      "iteration 9 : 756039.5172761206\n",
      "iteration 10 : 717332.9025432304\n",
      "iteration 11 : 694587.9252526884\n",
      "iteration 12 : 684444.5019967912\n",
      "iteration 13 : 674574.7475478558\n",
      "iteration 14 : 667409.4699160268\n",
      "iteration 15 : 663556.6278215034\n",
      "iteration 16 : 660162.7772287573\n",
      "iteration 17 : 656041.3222947125\n",
      "iteration 18 : 653036.7540731605\n",
      "iteration 19 : 651112.426252273\n",
      "iteration 20 : 649689.0131843532\n"
     ]
    }
   ],
   "source": [
    "cost_Manhattan_c2=Kmeans(dataset,c2,20,'Manhattan')"
   ]
  },
  {
   "cell_type": "markdown",
   "id": "1594e2c8",
   "metadata": {},
   "source": [
    "## (a) 1. 作图"
   ]
  },
  {
   "cell_type": "code",
   "execution_count": 8,
   "id": "2d7b8f9c",
   "metadata": {},
   "outputs": [
    {
     "data": {
      "image/png": "[encoded data removed]",
      "text/plain": [
       "<Figure size 432x288 with 1 Axes>"
      ]
     },
     "metadata": {
      "needs_background": "light"
     },
     "output_type": "display_data"
    }
   ],
   "source": [
    "plt.plot(cost_Euclidean_c1,marker='*')\n",
    "plt.title(\"Euclidean_c1\")\n",
    "plt.xlabel('iteration')\n",
    "plt.ylabel('cost')\n",
    "plt.show()"
   ]
  },
  {
   "cell_type": "code",
   "execution_count": 9,
   "id": "069e3976",
   "metadata": {},
   "outputs": [
    {
     "data": {
      "image/png": "[encoded data removed]",
      "text/plain": [
       "<Figure size 432x288 with 1 Axes>"
      ]
     },
     "metadata": {
      "needs_background": "light"
     },
     "output_type": "display_data"
    }
   ],
   "source": [
    "plt.plot(cost_Euclidean_c2,marker='*')\n",
    "plt.title(\"Euclidean_c2\")\n",
    "plt.xlabel('iteration')\n",
    "plt.ylabel('cost')\n",
    "plt.show()"
   ]
  },
  {
   "cell_type": "code",
   "execution_count": 10,
   "id": "c8522ab2",
   "metadata": {},
   "outputs": [
    {
     "data": {
      "image/png": "[encoded data removed]",
      "text/plain": [
       "<Figure size 432x288 with 1 Axes>"
      ]
     },
     "metadata": {
      "needs_background": "light"
     },
     "output_type": "display_data"
    }
   ],
   "source": [
    "plt.plot(cost_Euclidean_c1, label=\"c1\",marker='*')\n",
    "plt.plot(cost_Euclidean_c2, label = \"c2\",marker='*')\n",
    "plt.legend(loc='upper right')\n",
    "plt.title(\"Euclidean_c1&c2\")\n",
    "plt.xlabel('iteration')\n",
    "plt.ylabel('cost')\n",
    "plt.show()"
   ]
  },
  {
   "cell_type": "markdown",
   "id": "d18fda6e",
   "metadata": {},
   "source": [
    "## (a) 2. 分析"
   ]
  },
  {
   "cell_type": "code",
   "execution_count": 11,
   "id": "b7b9322f",
   "metadata": {},
   "outputs": [
    {
     "name": "stdout",
     "output_type": "stream",
     "text": [
      "c1在十次迭代后cost相比最初，降低了26.48%\n",
      "c2在十次迭代后cost相比最初，降低了76.70%\n"
     ]
    }
   ],
   "source": [
    "print('c1在十次迭代后cost相比最初，降低了{:.2%}'.format((cost_Euclidean_c1[0]-cost_Euclidean_c1[10])/cost_Euclidean_c1[0]))\n",
    "print('c2在十次迭代后cost相比最初，降低了{:.2%}'.format((cost_Euclidean_c2[0]-cost_Euclidean_c2[10])/cost_Euclidean_c2[0]))"
   ]
  },
  {
   "cell_type": "markdown",
   "id": "cf1a4782",
   "metadata": {},
   "source": [
    "    c1在十次迭代后cost相比最初，降低了26.48%\n",
    "    c2在十次迭代后cost相比最初，降低了76.70%\n",
    "    就cost而言，c2表现比c1好，即初始选择距离较远的点作为聚类中心相较于随机选取效果理想\n",
    "    推测原因：随机选取可能选到过于靠近的点，导致迭代过程中掉入局部最优而非全局最优。"
   ]
  },
  {
   "cell_type": "markdown",
   "id": "8db53bf5",
   "metadata": {},
   "source": [
    "## (b) 1. 作图"
   ]
  },
  {
   "cell_type": "code",
   "execution_count": 12,
   "id": "68062f17",
   "metadata": {},
   "outputs": [
    {
     "data": {
      "image/png": "[encoded data removed]",
      "text/plain": [
       "<Figure size 432x288 with 1 Axes>"
      ]
     },
     "metadata": {
      "needs_background": "light"
     },
     "output_type": "display_data"
    }
   ],
   "source": [
    "plt.plot(cost_Manhattan_c1,marker='*')\n",
    "plt.title(\"Manhattan_c1\")\n",
    "plt.xlabel('iteration')\n",
    "plt.ylabel('cost')\n",
    "plt.show()"
   ]
  },
  {
   "cell_type": "code",
   "execution_count": 13,
   "id": "ad83f1ad",
   "metadata": {},
   "outputs": [
    {
     "data": {
      "image/png": "[encoded data removed]",
      "text/plain": [
       "<Figure size 432x288 with 1 Axes>"
      ]
     },
     "metadata": {
      "needs_background": "light"
     },
     "output_type": "display_data"
    }
   ],
   "source": [
    "plt.plot(cost_Manhattan_c2,marker='*')\n",
    "plt.title(\"Manhattan_c2\")\n",
    "plt.xlabel('iteration')\n",
    "plt.ylabel('cost')\n",
    "plt.show()"
   ]
  },
  {
   "cell_type": "code",
   "execution_count": 14,
   "id": "c0d1a382",
   "metadata": {},
   "outputs": [
    {
     "data": {
      "image/png": "[encoded data removed]",
      "text/plain": [
       "<Figure size 432x288 with 1 Axes>"
      ]
     },
     "metadata": {
      "needs_background": "light"
     },
     "output_type": "display_data"
    }
   ],
   "source": [
    "plt.plot(cost_Manhattan_c1, label=\"c1\",marker='*')\n",
    "plt.plot(cost_Manhattan_c2, label = \"c2\",marker='*')\n",
    "plt.legend(loc='upper right')\n",
    "plt.title(\"Manhattan_c1&c2\")\n",
    "plt.xlabel('iteration')\n",
    "plt.ylabel('cost')\n",
    "plt.show()"
   ]
  },
  {
   "cell_type": "markdown",
   "id": "344184f4",
   "metadata": {},
   "source": [
    "## (b) 2. 分析"
   ]
  },
  {
   "cell_type": "code",
   "execution_count": 15,
   "id": "95909744",
   "metadata": {},
   "outputs": [
    {
     "name": "stdout",
     "output_type": "stream",
     "text": [
      "c1在十次迭代后cost相比最初，降低了18.65%\n",
      "c2在十次迭代后cost相比最初，降低了51.55%\n"
     ]
    }
   ],
   "source": [
    "print('c1在十次迭代后cost相比最初，降低了{:.2%}'.format((cost_Manhattan_c1[0]-cost_Manhattan_c1[10])/cost_Manhattan_c1[0]))\n",
    "print('c2在十次迭代后cost相比最初，降低了{:.2%}'.format((cost_Manhattan_c2[0]-cost_Manhattan_c2[10])/cost_Manhattan_c2[0]))"
   ]
  },
  {
   "cell_type": "markdown",
   "id": "e0c4bcc4",
   "metadata": {},
   "source": [
    "    c1在十次迭代后cost相比最初，降低了18.65%\n",
    "    c2在十次迭代后cost相比最初，降低了51.55%\n",
    "    就cost而言，c2表现比c1好，即初始选择距离较远的点作为聚类中心相较于随机选取效果理想\n",
    "    推测原因：随机选取可能选到过于靠近的点，导致迭代过程中掉入局部最优而非全局最优。"
   ]
  }
 ],
 "metadata": {
  "kernelspec": {
   "display_name": "Python 3.8.8 ('base')",
   "language": "python",
   "name": "python3"
  },
  "language_info": {
   "codemirror_mode": {
    "name": "ipython",
    "version": 3
   },
   "file_extension": ".py",
   "mimetype": "text/x-python",
   "name": "python",
   "nbconvert_exporter": "python",
   "pygments_lexer": "ipython3",
   "version": "3.8.8"
  },
  "vscode": {
   "interpreter": {
    "hash": "5dfae695991f40f7f711b859ebe4404a578ce2940a1c2f7058c1cb98bd497b2c"
   }
  }
 },
 "nbformat": 4,
 "nbformat_minor": 5
}
